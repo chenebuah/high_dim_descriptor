{
  "nbformat": 4,
  "nbformat_minor": 0,
  "metadata": {
    "colab": {
      "name": "high_dim_input_ img.ipynb",
      "provenance": [],
      "collapsed_sections": []
    },
    "kernelspec": {
      "name": "python3",
      "display_name": "Python 3"
    },
    "language_info": {
      "name": "python"
    }
  },
  "cells": [
    {
      "cell_type": "code",
      "execution_count": null,
      "metadata": {
        "id": "dWOZ6ZXsSS6n"
      },
      "outputs": [],
      "source": [
        "# GENERICALLY SEARCH FOR TERNARY ABX3 (PEROVSKITES) OQMD STRUCTURES\n",
        "\n",
        "# Uncomment to install OQMD library\n",
        "# !pip install qmpy-rester \n",
        "\n",
        "import qmpy_rester as qr\n",
        "\n",
        "with qr.QMPYRester() as q:\n",
        "    kwargs = {'generic':'ABC3'} # You may use 'limit' and 'offset' args** to extract samples in batches\n",
        "    perov = q.get_oqmd_phases(**kwargs)\n",
        "\n",
        "f = open(\"data.txt\",\"w\")\n",
        "f.write( str(perov))\n",
        "f.close()"
      ]
    }
  ]
}