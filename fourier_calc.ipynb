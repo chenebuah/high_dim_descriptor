{
  "nbformat": 4,
  "nbformat_minor": 0,
  "metadata": {
    "colab": {
      "provenance": []
    },
    "kernelspec": {
      "name": "python3",
      "display_name": "Python 3"
    },
    "language_info": {
      "name": "python"
    }
  },
  "cells": [
    {
      "cell_type": "markdown",
      "source": [
        "# A Fourier-transformed feature engineering design for predicting ternary perovskite properties by coupling a two-dimensional convolutional neural network with a support vector machine.\n",
        "\n",
        "AUTHORS - * Ericsson Chenebuah, Michel Nganbe and Alain Tchagang \n",
        "\n",
        "Department of Mechanical Engineering, University of Ottawa, 75 Laurier Ave. East, Ottawa, ON, K1N 6N5 Canada \n",
        "\n",
        "email: * echen013@uottawa.ca \n" 
        "\n",
        "(06-Dec-2022) \n"
        "\n",
        
        "**A step-by-step Jupyter notebook guide for transforming perovskite crystals into the high-dimensional input image.** \n",
        "\n",
        "Given an ABX3 perovskite material with 5 number atoms in the unit cell (i.e. Site 1, Site 2, Site 3, Site 4 & Site 5) for example, the code herein simulates how elemental (ionic) property vectors are Fourier projected into the reciprocal space by using predefined *hkl* crystal planes and corresponding atomic coordinates. \n",
        "\n"
      ],
      "metadata": {
        "id": "kC89dJxc2nYF"
      }
    },
    {
      "cell_type": "markdown",
      "source": [
        "<img src=\"https://drive.google.com/uc?id=114e9UD6h9_WQLQtR1vtOwu_yRKPYBJce\" alt=\"Drawing\" style=\"width: 5px;\"/>\n"
      ],
      "metadata": {
        "id": "yfIckNGP_2n9"
      }
    },
    {
      "cell_type": "markdown",
      "source": [
        "#Step 1: Read the data file\n",
        "\n",
        "Please download and read the sample data from:\n",
        "\n",
        "https://drive.google.com/file/d/1dnIUxJLTQWS3becCvx95mxidwIt7J_fN/view?usp=sharing\n",
        "\n",
        "You must upload the downloaded data (currently on your local computer) to Files directory with this notebook before running the code.\n",
        "\n",
        "For the purpose of this experimentation, the sample data consists of 21 simple ABX3 structures with 5 number of atoms each in the unit cell, from the Open Quantum Materials Database (OQMD)."
      ],
      "metadata": {
        "id": "rCJQvgsF6bz0"
      }
    },
    {
      "cell_type": "code",
      "source": [
        "import pandas as pd\n",
        "import numpy as np\n",
        "\n",
        "abx3 = np.array(pd.read_csv('data.csv'))\n",
        "datasize = abx3.shape[0]"
      ],
      "metadata": {
        "id": "3JDQZlYe6avl"
      },
      "execution_count": null,
      "outputs": []
    },
    {
      "cell_type": "markdown",
      "source": [
        "**Step 2:** Organize all Continuous Direct Features (CDF) in the Direct Space Feature (DSF) block of the high-dimensional input image. The CDF consists of 3D lattice vectors, inter-axial angle, and fractional atomic coordinates.\n"
      ],
      "metadata": {
        "id": "f9cEWcInBvt1"
      }
    },
    {
      "cell_type": "code",
      "source": [
        "from sklearn.preprocessing import MinMaxScaler\n",
        "\n",
        "# Organize real lattice base vectors (LV) into a 3X3 array\n",
        "\n",
        "vec_3d = abx3[:,11:20]\n",
        "scaler_LV = MinMaxScaler()\n",
        "LV = scaler_LV.fit_transform(vec_3d)\n",
        "\n",
        "data_LV=[]\n",
        "for i in range(datasize):\n",
        "    LV1=LV[i,0:3]\n",
        "    LV2=LV[i,3:6]\n",
        "    LV3=LV[i,6:9]\n",
        "    LV_=np.row_stack((LV1,LV2,LV3))\n",
        "    data_LV.append(LV_)\n",
        "LV=np.array(data_LV)\n",
        "\n",
        "# Calculate inter-axial angles (ANG) between lattice vectors and organize into a 1X3 array\n",
        "\n",
        "a_vec = vec_3d[:,0:3]\n",
        "b_vec = vec_3d[:,3:6]\n",
        "c_vec = vec_3d[:,6:9]\n",
        "\n",
        "import math\n",
        "\n",
        "data_ANG = []\n",
        "for i in range(abx3.shape[0]):\n",
        "  alpha = math.degrees(np.arccos(np.dot(a_vec[i],b_vec[i])/(np.linalg.norm(a_vec[i])*np.linalg.norm(b_vec[i]))))\n",
        "  beta = math.degrees(np.arccos(np.dot(a_vec[i],c_vec[i])/(np.linalg.norm(a_vec[i])*np.linalg.norm(c_vec[i]))))\n",
        "  gamma = math.degrees(np.arccos(np.dot(b_vec[i],c_vec[i])/(np.linalg.norm(b_vec[i])*np.linalg.norm(c_vec[i]))))\n",
        "  ang = (alpha,beta,gamma)\n",
        "  data_ANG.append(ang)\n",
        "ANG = np.array(data_ANG)\n",
        "\n",
        "scaler_ANG = MinMaxScaler()\n",
        "ANG = (scaler_ANG.fit_transform(ANG)).reshape(datasize,1,ANG.shape[1])\n",
        "\n",
        "# Organize atomic coordinates into (N X 3) array, where N is the no. of atoms in the unit cell\n",
        "\n",
        "atom_coord = abx3[:, 25:]\n",
        "scaler_atom_coord = MinMaxScaler()\n",
        "AC = scaler_atom_coord.fit_transform(atom_coord)\n",
        "\n",
        "data_AC=[]\n",
        "for i in range(datasize):\n",
        "    AC1=AC[i,0:3]\n",
        "    AC2=AC[i,3:6]\n",
        "    AC3=AC[i,6:9]\n",
        "    AC4=AC[i,9:12]\n",
        "    AC5=AC[i,12:15] \n",
        "    \n",
        "# For demonstrative purposes, the simulation is done for 5 number of atoms in a primitive ABX3 unit cell.\n",
        "# Considering a more robust case of perovskite supercells (e.g. 2N,3N,4N,...where N=5 atoms), the stacking\n",
        "# arrangement will have to accommodate all coordinates of constituive atoms    \n",
        "       \n",
        "\n",
        "    AC_=np.row_stack((AC1,AC2,AC3,AC4,AC5))\n",
        "    data_AC.append(AC_)\n",
        "AC=np.array(data_AC)\n",
        "\n",
        "# Complete CDF array\n",
        "cdf = np.hstack((LV, ANG, AC))"
      ],
      "metadata": {
        "id": "BNSgvd76hub1"
      },
      "execution_count": null,
      "outputs": []
    },
    {
      "cell_type": "markdown",
      "source": [
        "**Step 3:** Organize Discrete Direct Features (DDF) in the DSF block by converting Site Atoms into categorical (one-hot encoded) vectors based on the bin-size of the ionic property.\n",
        "\n",
        "First, load the properties of all chemical atoms in the periodic table"
      ],
      "metadata": {
        "id": "GsF7D1hWPeOF"
      }
    },
    {
      "cell_type": "code",
      "source": [
        "# Load the properties of the constitutive chemcical atoms\n",
        "\n",
        "atomic_no = {\n",
        "    \"H\":1, \"He\":2, \"Li\":3, \"Be\":4, \"B\":5, \"C\":6, \"N\":7, \"O\":8, \"F\":9, \"Ne\":10, \"Na\":11, \"Mg\":12, \"Al\":13, \"Si\":14, \"P\":15, \"S\":16, \"Cl\":17, \"Ar\":18, \"K\":19, \"Ca\":20,\n",
        "    \"Sc\":21, \"Ti\":22, \"V\":23, \"Cr\":24, \"Mn\":25, \"Fe\":26, \"Co\":27, \"Ni\":28, \"Cu\":29, \"Zn\":30, \"Ga\":31, \"Ge\":32, \"As\":33, \"Se\":34, \"Br\":35, \"Kr\":36, \"Rb\":37, \"Sr\":38, \n",
        "    \"Y\":39, \"Zr\":40, \"Nb\":41, \"Mo\":42, \"Tc\":43, \"Ru\":44, \"Rh\":45, \"Pd\":46, \"Ag\":47, \"Cd\":48, \"In\":49, \"Sn\":50, \"Sb\":51, \"Te\":52, \"I\":53, \"Xe\":54, \"Cs\":55, \"Ba\":56, \n",
        "    \"La\":57, \"Ce\":58, \"Pr\":59, \"Nd\":60, \"Pm\":61, \"Sm\":62, \"Eu\":63, \"Gd\":64, \"Tb\":65, \"Dy\":66, \"Ho\":67, \"Er\":68, \"Tm\":69, \"Yb\":70, \"Lu\":71, \"Hf\":72, \"Ta\":73, \"W\":74, \n",
        "    \"Re\":75, \"Os\":76, \"Ir\":77, \"Pt\":78, \"Au\":79, \"Hg\":80, \"Tl\":81, \"Pb\":82, \"Bi\":83, \"Po\":84, \"At\":85, \"Rn\":86, \"Fr\":87, \"Ra\":88, \"Ac\":89, \"Th\":90, \"Pa\":91, \"U\":92,\n",
        "    \"Np\":93, \"Pu\":94, \"Am\":95, \"Cm\":96, \"Bk\":97, \"Cf\":98, \"Es\":99, \"Fm\":100, \"Md\":101, \"No\":102, \"Lr\":103\n",
        "    }\n",
        "\n",
        "group_no = {\n",
        "    \"H\":1, \"He\":18, \"Li\":1, \"Be\":2, \"B\":13, \"C\":14, \"N\":15, \"O\":16, \"F\":17, \"Ne\":18, \"Na\":1, \"Mg\":2, \"Al\":13, \"Si\":14, \"P\":15, \"S\":16, \"Cl\":17, \"Ar\":18, \"K\":1, \"Ca\":2,\n",
        "    \"Sc\":3, \"Ti\":4, \"V\":5, \"Cr\":6, \"Mn\":7, \"Fe\":8, \"Co\":9, \"Ni\":10, \"Cu\":11, \"Zn\":12, \"Ga\":13, \"Ge\":14, \"As\":15, \"Se\":16, \"Br\":17, \"Kr\":18, \"Rb\":1, \"Sr\":2, \n",
        "    \"Y\":3, \"Zr\":4, \"Nb\":5, \"Mo\":6, \"Tc\":7, \"Ru\":8, \"Rh\":9, \"Pd\":10, \"Ag\":11, \"Cd\":12, \"In\":13, \"Sn\":14, \"Sb\":15, \"Te\":16, \"I\":17, \"Xe\":18, \"Cs\":1, \"Ba\":2, \n",
        "    \"La\":3, \"Ce\":4, \"Pr\":5, \"Nd\":6, \"Pm\":7, \"Sm\":8, \"Eu\":9, \"Gd\":10, \"Tb\":11, \"Dy\":12, \"Ho\":13, \"Er\":14, \"Tm\":15, \"Yb\":16, \"Lu\":17, \"Hf\":4, \"Ta\":5, \"W\":6, \n",
        "    \"Re\":7, \"Os\":8, \"Ir\":9, \"Pt\":10, \"Au\":11, \"Hg\":12, \"Tl\":13, \"Pb\":14, \"Bi\":15, \"Po\":16, \"At\":17, \"Rn\":18, \"Fr\":1, \"Ra\":2, \"Ac\":3, \"Th\":4, \"Pa\":5, \"U\":6,\n",
        "    \"Np\":7, \"Pu\":8, \"Am\":9, \"Cm\":10, \"Bk\":11, \"Cf\":12, \"Es\":13, \"Fm\":14, \"Md\":15, \"No\":16, \"Lr\":17\n",
        "    }\n",
        "\n",
        "row_no = {\n",
        "    \"H\":1, \"He\":1, \"Li\":2, \"Be\":2, \"B\":2, \"C\":2, \"N\":2, \"O\":2, \"F\":2, \"Ne\":2, \"Na\":3, \"Mg\":3, \"Al\":3, \"Si\":3, \"P\":3, \"S\":3, \"Cl\":3, \"Ar\":3, \"K\":4, \"Ca\":4,\n",
        "    \"Sc\":4, \"Ti\":4, \"V\":4, \"Cr\":4, \"Mn\":4, \"Fe\":4, \"Co\":4, \"Ni\":4, \"Cu\":4, \"Zn\":4, \"Ga\":4, \"Ge\":4, \"As\":4, \"Se\":4, \"Br\":4, \"Kr\":4, \"Rb\":5, \"Sr\":5, \n",
        "    \"Y\":5, \"Zr\":5, \"Nb\":5, \"Mo\":5, \"Tc\":5, \"Ru\":5, \"Rh\":5, \"Pd\":5, \"Ag\":5, \"Cd\":5, \"In\":5, \"Sn\":5, \"Sb\":5, \"Te\":5, \"I\":5, \"Xe\":5, \"Cs\":6, \"Ba\":6, \n",
        "    \"La\":8, \"Ce\":8, \"Pr\":8, \"Nd\":8, \"Pm\":8, \"Sm\":8, \"Eu\":8, \"Gd\":8, \"Tb\":8, \"Dy\":8, \"Ho\":8, \"Er\":8, \"Tm\":8, \"Yb\":8, \"Lu\":8, \"Hf\":6, \"Ta\":6, \"W\":6, \n",
        "    \"Re\":6, \"Os\":6, \"Ir\":6, \"Pt\":6, \"Au\":6, \"Hg\":6, \"Tl\":6, \"Pb\":6, \"Bi\":6, \"Po\":6, \"At\":6, \"Rn\":6, \"Fr\":7, \"Ra\":7, \"Ac\":9, \"Th\":9, \"Pa\":9, \"U\":9,\n",
        "    \"Np\":9, \"Pu\":9, \"Am\":9, \"Cm\":9, \"Bk\":9, \"Cf\":9, \"Es\":9, \"Fm\":9, \"Md\":9, \"No\":9, \"Lr\":9\n",
        "    }\n",
        "\n",
        "valence = {\n",
        "    \"H\":1, \"He\":2, \"Li\":1, \"Be\":2, \"B\":3, \"C\":4, \"N\":5, \"O\":6, \"F\":7, \"Ne\":8, \"Na\":1, \"Mg\":2, \"Al\":3, \"Si\":4, \"P\":5, \"S\":6, \"Cl\":7, \"Ar\":8, \"K\":1, \"Ca\":2,\n",
        "    \"Sc\":2, \"Ti\":2, \"V\":2, \"Cr\":1, \"Mn\":2, \"Fe\":2, \"Co\":2, \"Ni\":2, \"Cu\":1, \"Zn\":2, \"Ga\":3, \"Ge\":4, \"As\":5, \"Se\":6, \"Br\":7, \"Kr\":8, \"Rb\":1, \"Sr\":2, \n",
        "    \"Y\":2, \"Zr\":2, \"Nb\":1, \"Mo\":1, \"Tc\":2, \"Ru\":1, \"Rh\":1, \"Pd\":9, \"Ag\":1, \"Cd\":2, \"In\":3, \"Sn\":4, \"Sb\":5, \"Te\":6, \"I\":7, \"Xe\":8, \"Cs\":1, \"Ba\":2, \n",
        "    \"La\":2, \"Ce\":2, \"Pr\":2, \"Nd\":2, \"Pm\":2, \"Sm\":2, \"Eu\":2, \"Gd\":2, \"Tb\":2, \"Dy\":2, \"Ho\":2, \"Er\":2, \"Tm\":2, \"Yb\":2, \"Lu\":2, \"Hf\":2, \"Ta\":2, \"W\":2, \n",
        "    \"Re\":2, \"Os\":2, \"Ir\":2, \"Pt\":1, \"Au\":1, \"Hg\":2, \"Tl\":3, \"Pb\":4, \"Bi\":5, \"Po\":6, \"At\":7, \"Rn\":8, \"Fr\":1, \"Ra\":2, \"Ac\":2, \"Th\":2, \"Pa\":2, \"U\":2,\n",
        "    \"Np\":2, \"Pu\":2, \"Am\":2, \"Cm\":2, \"Bk\":2, \"Cf\":2, \"Es\":2, \"Fm\":2, \"Md\":2, \"No\":2, \"Lr\":3\n",
        "    }\n",
        "\n",
        "block = {\n",
        "    \"H\":1, \"He\":1, \"Li\":1, \"Be\":1, \"B\":2, \"C\":2, \"N\":2, \"O\":2, \"F\":2, \"Ne\":2, \"Na\":1, \"Mg\":1, \"Al\":2, \"Si\":2, \"P\":2, \"S\":2, \"Cl\":2, \"Ar\":2, \"K\":1, \"Ca\":1,\n",
        "    \"Sc\":3, \"Ti\":3, \"V\":3, \"Cr\":3, \"Mn\":3, \"Fe\":3, \"Co\":3, \"Ni\":3, \"Cu\":3, \"Zn\":3, \"Ga\":2, \"Ge\":2, \"As\":2, \"Se\":2, \"Br\":2, \"Kr\":2, \"Rb\":1, \"Sr\":1, \n",
        "    \"Y\":3, \"Zr\":3, \"Nb\":3, \"Mo\":3, \"Tc\":3, \"Ru\":3, \"Rh\":3, \"Pd\":3, \"Ag\":3, \"Cd\":3, \"In\":2, \"Sn\":2, \"Sb\":2, \"Te\":2, \"I\":2, \"Xe\":2, \"Cs\":1, \"Ba\":1, \n",
        "    \"La\":4, \"Ce\":4, \"Pr\":4, \"Nd\":4, \"Pm\":4, \"Sm\":4, \"Eu\":4, \"Gd\":4, \"Tb\":4, \"Dy\":4, \"Ho\":4, \"Er\":4, \"Tm\":4, \"Yb\":4, \"Lu\":3, \"Hf\":3, \"Ta\":3, \"W\":3, \n",
        "    \"Re\":3, \"Os\":3, \"Ir\":3, \"Pt\":3, \"Au\":3, \"Hg\":3, \"Tl\":2, \"Pb\":2, \"Bi\":2, \"Po\":2, \"At\":2, \"Rn\":2, \"Fr\":1, \"Ra\":1, \"Ac\":4, \"Th\":4, \"Pa\":4, \"U\":4,\n",
        "    \"Np\":4, \"Pu\":4, \"Am\":4, \"Cm\":4, \"Bk\":4, \"Cf\":4, \"Es\":4, \"Fm\":4, \"Md\":4, \"No\":4, \"Lr\":3\n",
        "    }\n",
        "\n",
        "electronegativity = {\n",
        "    'H':2.2, 'He':'n.a', 'Li':0.98, 'Be':\t1.57, 'B':\t2.04, 'C':2.55,'N':\t3.04,'O':\t3.44,'F':\t3.98,'Ne':\t\"n.a\",'Na':\t0.93,'Mg':\t1.31,'Al':\t1.61,'Si':\t1.9,\n",
        "    'P':\t2.19,'S':\t2.58,'Cl':\t3.16,'Ar':\t\"n.a\", 'K':\t0.82, 'Ca':\t1, 'Sc':\t1.36, 'Ti':\t1.54, 'V':\t1.63,'Cr':\t1.66,'Mn':\t1.55,'Fe':\t1.83,'Co':\t1.88,'Ni':\t1.91,\n",
        "    'Cu':\t1.9, 'Zn':\t1.65, 'Ga':\t1.81, 'Ge':\t2.01,'As':\t2.18,'Se':\t2.55,'Br':\t2.96,'Kr':\t\"n.a\",'Rb':\t0.82,'Sr':\t0.95,'Y':\t1.22,'Zr':\t1.33,'Nb':\t1.6,'Mo':\t2.16,\n",
        "    'Tc':\t2.1,'Ru':\t2.2,'Rh':\t2.28,'Pd':\t2.2,'Ag':\t1.93,'Cd':\t1.69,'In':\t1.78,'Sn':\t1.96,'Sb':\t2.05,'Te':\t2.1,'I':\t2.66,'Xe':\t2.6,'Cs':\t0.79,'Ba':\t0.89,\n",
        "    'La':\t1.1,'Ce':\t1.12,'Pr':\t1.13,'Nd':\t1.14,'Pm':\t1.13,'Sm':\t1.17,'Eu':\t1.2,'Gd':\t1.2,'Tb':\t1.1,'Dy':\t1.22,'Ho':\t1.23,'Er':\t1.24,'Tm':\t1.25,'Yb':\t1.1,\n",
        "    'Lu':\t1,'Hf':\t1.3,'Ta':\t1.5,'W':\t1.7,'Re':\t1.9,'Os':\t2.2,'Ir':\t2.2,'Pt':\t2.2,'Au':\t2.4,'Hg':\t1.9,'Tl':\t1.8,'Pb':\t1.8,'Bi':\t1.9,'Po':\t2,'At':\t2.2,'Rn':\t2.2,'Fr':\t0.7,\n",
        "    'Ra':\t0.9,'Ac':\t1.1,'Th':\t1.3,'Pa':\t1.5,'U':\t1.7,'Np':\t1.3,'Pu':\t1.3,'Am':\t1.3,'Cm':\t1.3,'Bk':\t1.3,'Cf':\t1.3,'Es':\t1.3,'Fm':\t1.3,'Md':\t1.3,'No':\t1.3,'Lr':\t1.3\n",
        "    }\n",
        "\n",
        "covalent_radius = {\n",
        "    'H':\t0.31,'He':\t0.28,'Li':\t1.28,'Be':\t0.96,'B':\t0.84,'C':\t0.76,'N':\t0.71,'O':\t0.66,'F':\t0.57,'Ne':\t0.58,'Na':\t1.66,'Mg':\t1.41,'Al':\t1.21,'Si':\t1.11,'P':\t1.07,\n",
        "    'S':\t1.05,'Cl':\t1.02,'Ar':\t1.06,'K':\t2.03,'Ca':\t1.76,'Sc':\t1.7,'Ti':\t1.6,'V':\t1.53,'Cr':\t1.39,'Mn':\t1.39,'Fe':\t1.32,'Co':\t1.26,'Ni':\t1.24,'Cu':\t1.32,'Zn':\t1.22,\n",
        "    'Ga':\t1.22,'Ge':\t1.2,'As':\t1.19,'Se':\t1.2,'Br':\t1.2,'Kr':\t1.16,'Rb':\t2.2,'Sr':\t1.95,'Y':\t1.9,'Zr':\t1.75,'Nb':\t1.64,'Mo':\t1.54,'Tc':\t1.47,'Ru':\t1.46,'Rh':\t1.42,\n",
        "    'Pd':\t1.39,'Ag':\t1.45,'Cd':\t1.44,'In':\t1.42,'Sn':\t1.39,'Sb':\t1.39,'Te':\t1.38,'I':\t1.39,'Xe':\t1.4,'Cs':\t2.44,'Ba':\t2.15,'La':\t2.07,'Ce':\t2.04,'Pr':\t2.03,'Nd':\t2.01,\n",
        "    'Pm':\t1.99,'Sm':\t1.98,'Eu':\t1.98,'Gd':\t1.96,'Tb':\t1.94,'Dy':\t1.92,'Ho':\t1.92,'Er':\t1.89,'Tm':\t1.9,'Yb':\t1.87,'Lu':\t1.87,'Hf':\t1.75,'Ta':\t1.7,'W':\t1.62,'Re':\t1.51,\n",
        "    'Os':\t1.44,'Ir':\t1.41,'Pt':\t1.36,'Au':\t1.36,'Hg':\t1.32,'Tl':\t1.45,'Pb':\t1.46,'Bi':\t1.48,'Po':\t1.4,'At':\t1.5,'Rn':\t1.5,'Fr':\t2.6,'Ra':\t2.21,'Ac':\t2.15,'Th':\t2.06,\n",
        "    'Pa':\t2,'U':\t1.96,'Np':\t1.9,'Pu':\t1.87,'Am':\t1.8,'Cm':\t1.69,'Bk':\t'n.a','Cf':\t'n.a','Es':\t'n.a','Fm':\t'n.a','Md':\t'n.a','No':\t'n.a','Lr':\t'n.a'\n",
        "    }\n",
        "\n",
        "ionization_energy = {\n",
        "    'H':\t13.59844,'He':\t24.58741,'Li':\t5.39172,'Be':\t9.3227,'B':\t8.29803,'C':\t11.2603,'N':\t14.53414,'O':\t13.61806,'F':\t17.42282,'Ne':\t21.5646,'Na':\t5.13908,'Mg':\t7.64624,\n",
        "    'Al':\t5.98577,'Si':\t8.15169,'P':\t10.48669,'S':\t10.36001,'Cl':\t12.96764,'Ar':\t15.75962,'K':\t4.34066,'Ca':\t6.11316,'Sc':\t6.5615,'Ti':\t6.8281,'V':\t6.7462,'Cr':\t6.7665,\n",
        "    'Mn':\t7.43402,'Fe':\t7.9024,'Co':\t7.881,'Ni':\t7.6398,'Cu':\t7.72638,'Zn':\t9.3942,'Ga':\t5.9993,'Ge':\t7.8994,'As':\t9.7886,'Se':\t9.75238,'Br':\t11.81381,'Kr':\t13.99961,\n",
        "    'Rb':\t4.17713,'Sr':\t5.6949,'Y':\t6.2171,'Zr':\t6.6339,'Nb':\t6.75885,'Mo':\t7.09243,'Tc':\t7.28,'Ru':\t7.3605,'Rh':\t7.4589,'Pd':\t8.3369,'Ag':\t7.5762,'Cd':\t8.9938,'In':\t5.78636,\n",
        "    'Sn':\t7.3439,'Sb':\t8.6084,'Te':\t9.0096,'I':\t10.45126,'Xe':\t12.1298,'Cs':\t3.8939,'Ba':\t5.2117,'La':\t5.5769,'Ce':\t5.5387,'Pr':\t5.473,'Nd':\t5.525,'Pm':\t5.582,'Sm':\t5.6436,\n",
        "    'Eu':\t5.6704,'Gd':\t6.1501,'Tb':\t5.8638,'Dy':\t5.9389,'Ho':\t6.0215,'Er':\t6.1077,'Tm':\t6.18431,'Yb':\t6.25416,'Lu':\t5.4259,'Hf':\t6.82507,'Ta':\t7.5496,'W':\t7.864,'Re':\t7.8335,\n",
        "    'Os':\t8.4382,'Ir':\t8.967,'Pt':\t8.9587,'Au':\t9.2255,'Hg':\t10.4375,'Tl':\t6.1082,'Pb':\t7.41666,'Bi':\t7.2856,'Po':\t8.417,'At':\t\"n.a\",'Rn':\t10.7485,'Fr':\t4.0727,'Ra':\t5.2784,\n",
        "    'Ac':\t5.17,'Th':\t6.3067,'Pa':\t5.89,'U':\t6.19405,'Np':\t6.2657,'Pu':\t6.0262,'Am':\t5.9738,'Cm':\t5.9915,'Bk':\t6.1979,'Cf':\t6.2817,'Es':\t6.42,'Fm':\t6.5,'Md':\t6.58,'No':\t6.65,\n",
        "    'Lr':\t4.9\n",
        "    }\n",
        "\n",
        "electron_affinity = {\n",
        "    'H':\t0.754195,'He':\t-0.5182,'Li':\t0.618049,'Be':\t-0.5182,'B':\t0.279723,'C':\t1.262119,'N':\t-0.0725,'O':\t1.4611096,'F':\t3.4011895,'Ne':\t-1.2437,'Na':\t0.547926,'Mg':\t-0.4146,\n",
        "    'Al':\t0.43283,'Si':\t1.389522,'P':\t0.7465,'S':\t2.077103,'Cl':\t3.612724,'Ar':\t-0.995,'K':\t0.50147,'Ca':\t0.02455,'Sc':\t0.188,'Ti':\t0.079,'V':\t0.525,'Cr':\t0.666,'Mn':\t-0.5,\n",
        "    'Fe':\t0.151,'Co':\t0.662,'Ni':\t1.156,'Cu':\t1.235,'Zn':\t-0.6219,'Ga':\t0.43,'Ge':\t1.232712,'As':\t0.814,'Se':\t2.02067,'Br':\t3.363588,'Kr':\t-1,'Rb':\t0.48592,'Sr':\t0.048,'Y':\t0.307,\n",
        "    'Zr':\t0.426,'Nb':\t0.8933,'Mo':\t0.748,'Tc':\t0.55,'Ru':\t1.05,'Rh':\t1.137,'Pd':\t0.562,'Ag':\t1.302,'Cd':\t-0.7255,'In':\t0.3,'Sn':\t1.112067,'Sb':\t1.046,'Te':\t1.9708,'I':\t3.059037,\n",
        "    'Xe':\t-0.8291,'Cs':\t0.471626,'Ba':\t0.14462,'La':\t0.47,'Ce':\t0.57,'Pr':\t0.964,'Nd':\t0.09749,'Pm':\t0.124,'Sm':\t0.166,'Eu':\t0.114,'Gd':\t0.135,'Tb':\t1.161,'Dy':\t0.352,'Ho':\t0.342,\n",
        "    'Er':\t0.311,'Tm':\t1.03,'Yb':\t-0.02,'Lu':\t0.34,'Hf':\t0.176,'Ta':\t0.322,'W':\t0.815,'Re':\t0.15,'Os':\t1.1,'Ir':\t1.5638,'Pt':\t2.128,'Au':\t2.30863,'Hg':\t-0.5182,'Tl':\t0.2,'Pb':\t0.364,\n",
        "    'Bi':\t0.946,'Po':\t1.9,'At':\t2.8,'Rn':\t-0.7255,'Fr':\t0.46,'Ra':\t0.1,'Ac':\t0.35,'Th':\t0.60769,'Pa':\t0.57,'U':\t0.31497,'Np':\t0.477,'Pu':\t-0.5,'Am':\t0.1,'Cm':\t0.28,'Bk':\t-1.72,\n",
        "    'Cf':\t-1.01,'Es':\t-0.3,'Fm':\t0.35,'Md':\t0.98,'No':\t-2.33,'Lr':\t-0.31\n",
        "    }\n",
        "\n",
        "molar_volume = {\n",
        "    'H':\t11.42,'He':\t21,'Li':\t13.02,'Be':\t4.85,'B':\t4.39,'C':\t5.29,'N':\t13.54,'O':\t17.36,'F':\t11.2,'Ne':\t13.23,'Na':\t23.78,'Mg':\t14,'Al':\t10,'Si':\t12.06,'P':\t17.02,'S':\t15.53,\n",
        "    'Cl':\t17.39,'Ar':\t22.56,'K':\t45.94,'Ca':\t26.2,'Sc':\t15,'Ti':\t10.64,'V':\t8.32,'Cr':\t7.23,'Mn':\t7.35,'Fe':\t7.09,'Co':\t6.67,'Ni':\t6.59,'Cu':\t7.11,'Zn':\t9.16,'Ga':\t11.8,\n",
        "    'Ge':\t13.63,'As':\t12.95,'Se':\t16.42,'Br':\t19.78,'Kr':\t27.99,'Rb':\t55.76,'Sr':\t33.94,'Y':\t19.88,'Zr':\t14.02,'Nb':\t10.83,'Mo':\t9.38,'Tc':\t8.63,'Ru':\t8.17,'Rh':\t8.28,'Pd':\t8.56,\n",
        "    'Ag':\t10.27,'Cd':\t13,'In':\t15.76,'Sn':\t16.29,'Sb':\t18.19,'Te':\t20.46,'I':\t25.72,'Xe':\t35.92,'Cs':\t70.94,'Ba':\t38.16,'La':\t22.39,'Ce':\t20.69,'Pr':\t20.8,'Nd':\t20.59,'Pm':\t20.23,\n",
        "    'Sm':\t19.98,'Eu':\t28.97,'Gd':\t19.9,'Tb':\t19.3,'Dy':\t19.01,'Ho':\t18.74,'Er':\t18.46,'Tm':\t19.1,'Yb':\t24.84,'Lu':\t17.78,'Hf':\t13.44,'Ta':\t10.85,'W':\t9.47,'Re':\t8.86,'Os':\t8.42,\n",
        "    'Ir':\t8.52,'Pt':\t9.09,'Au':\t10.21,'Hg':\t14.09,'Tl':\t17.22,'Pb':\t18.26,'Bi':\t21.31,'Po':\t22.97,'At':\t\"n.a\",'Rn':\t50.5,'Fr':\t\"n.a\",'Ra':\t41.09,'Ac':\t22.55,'Th':\t19.8,'Pa':\t15.18,\n",
        "    'U':\t12.49,'Np':\t11.59,'Pu':\t12.29,'Am':\t17.63,'Cm':\t18.05,'Bk':\t16.84,'Cf':\t16.5,'Es':\t28.52,'Fm':\t\"n.a\",'Md':\t\"n.a\",'No':\t\"n.a\",'Lr':\t\"n.a\"\n",
        "    }\n",
        "\n",
        "average_ionic_radius = {\n",
        "    'H':\t0,'He':\t0,'Li':\t0.9,'Be':\t0.59,'B':\t0.41,'C':\t0.3,'N':\t0.63,'O':\t1.26,'F':\t0.705,'Ne':\t0,'Na':\t1.16,'Mg':\t0.86,'Al':\t0.675,'Si':\t0.54,'P':\t0.55,'S':\t0.88,'Cl':\t0.78,\n",
        "    'Ar':\t0,'K':\t1.52,'Ca':\t1.14,'Sc':\t0.885,'Ti':\t0.852,'V':\t0.777,'Cr':\t0.94,'Mn':\t0.648,'Fe':\t0.853,'Co':\t0.768,'Ni':\t0.74,'Cu':\t0.82,'Zn':\t0.88,'Ga':\t0.76,'Ge':\t0.77,\n",
        "    'As':\t0.66,'Se':\t1.013,'Br':\t0.883,'Kr':\t0,'Rb':\t1.66,'Sr':\t1.32,'Y':\t1.04,'Zr':\t0.86,'Nb':\t0.82,'Mo':\t0.775,'Tc':\t0.742,'Ru':\t0.661,'Rh':\t0.745,'Pd':\t0.846,'Ag':\t1.087,\n",
        "    'Cd':\t1.09,'In':\t0.94,'Sn':\t0.83,'Sb':\t0.83,'Te':\t1.293,'I':\t1.273,'Xe':\t0.62,'Cs':\t1.81,'Ba':\t1.49,'La':\t1.172,'Ce':\t1.08,'Pr':\t1.06,'Nd':\t1.276,'Pm':\t1.11,'Sm':\t1.229,\n",
        "    'Eu':\t1.199,'Gd':\t1.075,'Tb':\t0.982,'Dy':\t1.131,'Ho':\t1.041,'Er':\t1.03,'Tm':\t1.095,'Yb':\t1.084,'Lu':\t1.001,'Hf':\t0.85,'Ta':\t0.82,'W':\t0.767,'Re':\t0.712,'Os':\t0.673,'Ir':\t0.765,\n",
        "    'Pt':\t0.805,'Au':\t1.07,'Hg':\t1.245,'Tl':\t1.333,'Pb':\t1.123,'Bi':\t1.035,'Po':\t0.945,'At':\t0.76,'Rn':\t0,'Fr':\t1.94,'Ra':\t1.62,'Ac':\t1.26,'Th':\t1.08,'Pa':\t1.04,'U':\t0.991,'Np':\t1,\n",
        "    'Pu':\t0.967,'Am':\t1.168,'Cm':\t1.05,'Bk':\t1.035,'Cf':\t1.026,'Es':\t0,'Fm':\t0,'Md':\t0,'No':\t0,'Lr':\t0\n",
        "    }\n",
        "\n",
        "polarizability = {\n",
        "    'H':\t0.666793,'He':\t0.204956,'Li':\t24.3,'Be':\t5.6,'B':\t3.03,'C':\t1.76,'N':\t1.1,'O':\t0.802,'F':\t0.557,'Ne':\t0.3956,'Na':\t24.11,'Mg':\t10.6,'Al':\t6.8,'Si':\t5.38,'P':\t3.63,\n",
        "    'S':\t2.9,'Cl':\t2.18,'Ar':\t1.6411,'K':\t43.4,'Ca':\t22.8,'Sc':\t17.8,'Ti':\t14.6,'V':\t12.4,'Cr':\t11.6,'Mn':\t9.4,'Fe':\t8.4,'Co':\t7.5,'Ni':\t6.8,'Cu':\t6.2,'Zn':\t5.75,'Ga':\t8.12,\n",
        "    'Ge':\t6.07,'As':\t4.31,'Se':\t3.77,'Br':\t3.05,'Kr':\t2.4844,'Rb':\t47.3,'Sr':\t27.6,'Y':\t22.7,'Zr':\t17.9,'Nb':\t15.7,'Mo':\t12.8,'Tc':\t11.4,'Ru':\t9.6,'Rh':\t8.6,'Pd':\t4.8,\n",
        "    'Ag':\t7.2,'Cd':\t7.36,'In':\t10.2,'Sn':\t7.7,'Sb':\t6.6,'Te':\t5.5,'I':\t5.35,'Xe':\t4.044,'Cs':\t59.42,'Ba':\t39.7,'La':\t31.1,'Ce':\t29.6,'Pr':\t28.2,'Nd':\t31.4,'Pm':\t30.1,\n",
        "    'Sm':\t28.8,'Eu':\t27.7,'Gd':\t23.5,'Tb':\t25.5,'Dy':\t24.5,'Ho':\t23.6,'Er':\t22.7,'Tm':\t21.8,'Yb':\t21,'Lu':\t21.9,'Hf':\t16.2,'Ta':\t13.1,'W':\t11.1,'Re':\t9.7,'Os':\t8.5,\n",
        "    'Ir':\t7.6,'Pt':\t6.5,'Au':\t5.8,'Hg':\t5.02,'Tl':\t7.6,'Pb':\t6.8,'Bi':\t7.4,'Po':\t6.8,'At':\t6,'Rn':\t5.3,'Fr':\t47.1,'Ra':\t38.3,'Ac':\t32.1,'Th':\t32.1,'Pa':\t25.4,'U':\t24.9,'Np':\t24.8,\n",
        "    'Pu':\t24.5,'Am':\t23.3,'Cm':\t23,'Bk':\t22.7,'Cf':\t20.5,'Es':\t19.7,'Fm':\t23.8,'Md':\t18.2,'No':\t17.5,'Lr':\t\"n.a.\"\n",
        "    }\n",
        "\n",
        "specific_heat = {\n",
        "    'H':\t14.304,'He':\t5.193,'Li':\t3.582,'Be':\t1.825,'B':\t1.026,'C':\t0.709,'N':\t1.04,'O':\t0.918,'F':\t0.824,'Ne':\t1.03,'Na':\t1.228,'Mg':\t1.023,'Al':\t0.897,'Si':\t0.705,'P':\t0.769,\n",
        "    'S':\t0.71,'Cl':\t0.479,'Ar':\t0.52,'K':\t0.757,'Ca':\t0.647,'Sc':\t0.568,'Ti':\t0.523,'V':\t0.489,'Cr':\t0.449,'Mn':\t0.479,'Fe':\t0.449,'Co':\t0.421,'Ni':\t0.444,'Cu':\t0.385,'Zn':\t0.388,\n",
        "    'Ga':\t0.371,'Ge':\t0.32,'As':\t0.329,'Se':\t0.321,'Br':\t0.474,'Kr':\t0.248,'Rb':\t0.363,'Sr':\t0.301,'Y':\t0.298,'Zr':\t0.278,'Nb':\t0.265,'Mo':\t0.251,'Tc':\t0.063,'Ru':\t0.238,'Rh':\t0.243,\n",
        "    'Pd':\t0.244,'Ag':\t0.235,'Cd':\t0.232,'In':\t0.233,'Sn':\t0.228,'Sb':\t0.207,'Te':\t0.202,'I':\t0.214,'Xe':\t0.158,'Cs':\t0.242,'Ba':\t0.204,'La':\t0.195,'Ce':\t0.192,'Pr':\t0.193,'Nd':\t0.19,\n",
        "    'Pm':\t0.18,'Sm':\t0.197,'Eu':\t0.182,'Gd':\t0.236,'Tb':\t0.182,'Dy':\t0.17,'Ho':\t0.165,'Er':\t0.168,'Tm':\t0.16,'Yb':\t0.155,'Lu':\t0.154,'Hf':\t0.144,'Ta':\t0.14,'W':\t0.132,'Re':\t0.137,\n",
        "    'Os':\t0.13,'Ir':\t0.131,'Pt':\t0.133,'Au':\t0.129,'Hg':\t0.14,'Tl':\t0.129,'Pb':\t0.129,'Bi':\t0.122,'Po':\t\"n.a\",'At':\t\"n.a\",'Rn':\t0.094,'Fr':\t\"n.a\",'Ra':\t0.092,'Ac':\t0.12,'Th':\t0.113,\n",
        "    'Pa':\t0.0991,'U':\t0.116,'Np':\t0.12,'Pu':\t0.13,'Am':\t\"n.a\",'Cm':\t\"n.a\",'Bk':\t\"n.a\",'Cf':\t\"n.a\",'Es':\t\"n.a\",'Fm':\t\"n.a\",'Md':\t\"n.a\",'No':\t\"n.a\",'Lr':\t\"n.a\"\n",
        "    }\n",
        "\n",
        "thermal_conductivity = {\n",
        "    'H':\t0.1805,'He':\t0.1513,'Li':\t85,'Be':\t190,'B':\t27,'C':\t140,'N':\t0.02583,'O':\t0.02658,'F':\t0.0277,'Ne':\t0.0491,'Na':\t140,'Mg':\t160,'Al':\t235,'Si':\t150,'P':\t0.236,\n",
        "    'S':\t0.205,'Cl':\t0.0089,'Ar':\t0.01772,'K':\t100,'Ca':\t200,'Sc':\t16,'Ti':\t22,'V':\t31,'Cr':\t94,'Mn':\t7.8,'Fe':\t80,'Co':\t100,'Ni':\t91,'Cu':\t400,'Zn':\t120,'Ga':\t29,'Ge':\t60,\n",
        "    'As':\t50,'Se':\t2.04,'Br':\t0.12,'Kr':\t0.00943,'Rb':\t58,'Sr':\t35,'Y':\t17,'Zr':\t23,'Nb':\t54,'Mo':\t139,'Tc':\t51,'Ru':\t120,'Rh':\t150,'Pd':\t72,'Ag':\t430,'Cd':\t97,'In':\t82,\n",
        "    'Sn':\t67,'Sb':\t24,'Te':\t3,'I':\t0.449,'Xe':\t0.00565,'Cs':\t36,'Ba':\t18,'La':\t13,'Ce':\t11,'Pr':\t13,'Nd':\t17,'Pm':\t17.9,'Sm':\t13,'Eu':\t14,'Gd':\t11,'Tb':\t11,'Dy':\t11,\n",
        "    'Ho':\t16,'Er':\t15,'Tm':\t17,'Yb':\t39,'Lu':\t16,'Hf':\t23,'Ta':\t57,'W':\t170,'Re':\t48,'Os':\t88,'Ir':\t150,'Pt':\t72,'Au':\t320,'Hg':\t8.3,'Tl':\t46,'Pb':\t35,'Bi':\t8,'Po':\t20,\n",
        "    'At':\t2,'Rn':\t0.00361,'Fr':\t77,'Ra':\t19,'Ac':\t12,'Th':\t54,'Pa':\t47,'U':\t27,'Np':\t6,'Pu':\t6,'Am':\t10,'Cm':\t8.8,'Bk':\t10,'Cf':\t10,'Es':\t10,'Fm':\t10,'Md':\t10,'No':\t10,\n",
        "    'Lr':\t10\n",
        "    }\n",
        "\n"
      ],
      "metadata": {
        "id": "hJi35kqiQSKt"
      },
      "execution_count": null,
      "outputs": []
    },
    {
      "cell_type": "markdown",
      "source": [
        "For illustrative purposes, transfoming real features into one-hot encoded vectors is simulated below using two ionic property features: group number (*group_no*) and row number (*row_no*), which are enough for demonstration. For a full simulation exercise, the same is repeated for the other feature properties and concatenated horizontally to form the DDF."
      ],
      "metadata": {
        "id": "19GOJRuO5tVt"
      }
    },
    {
      "cell_type": "code",
      "source": [
        "# Group Number (bin size = 18)\n",
        "\n",
        "data_gn=[]\n",
        "for i in range (0, datasize):\n",
        "  gn=group_no[abx3[(i,8)]], group_no[abx3[(i,9)]], group_no[abx3[(i,10)]]\n",
        "  data_gn.append(gn)\n",
        "\n",
        "GN=(np.array(data_gn))-1\n",
        "\n",
        "gn1 = []\n",
        "for value in GN[:,0]:\n",
        "\tidx = [0 for _ in range(18)]\n",
        "\tidx[value] = 1\n",
        "\tgn1.append(idx)\n",
        "GN1 = np.array(gn1).reshape(datasize,18,1)\n",
        "\n",
        "gn2 = []\n",
        "for value in GN[:,1]:\n",
        "\tidx = [0 for _ in range(18)]\n",
        "\tidx[value] = 1\n",
        "\tgn2.append(idx)\n",
        "GN2 = np.array(gn2).reshape(datasize,18,1)\n",
        "\n",
        "gn3 = []\n",
        "for value in GN[:,2]:\n",
        "\tidx = [0 for _ in range(18)]\n",
        "\tidx[value] = 1\n",
        "\tgn3.append(idx)\n",
        "GN3 = np.array(gn3).reshape(datasize,18,1)\n",
        "\n",
        "GN = np.concatenate((GN1, GN2, GN3), -1)\n",
        "\n",
        "\n",
        "# Row Number (bin size = 9)\n",
        "\n",
        "data_rn=[]\n",
        "for i in range (0, datasize):\n",
        "  rn=row_no[abx3[(i,8)]], row_no[abx3[(i,9)]], row_no[abx3[(i,10)]]\n",
        "  data_rn.append(rn)\n",
        "\n",
        "RN=(np.array(data_rn))-1\n",
        "\n",
        "rn1 = []\n",
        "for value in RN[:,0]:\n",
        "\tidx = [0 for _ in range(9)]\n",
        "\tidx[value] = 1\n",
        "\trn1.append(idx)\n",
        "RN1 = np.array(rn1).reshape(datasize,9,1)\n",
        "\n",
        "rn2 = []\n",
        "for value in RN[:,1]:\n",
        "\tidx = [0 for _ in range(9)]\n",
        "\tidx[value] = 1\n",
        "\trn2.append(idx)\n",
        "RN2 = np.array(rn2).reshape(datasize,9,1)\n",
        "\n",
        "rn3 = []\n",
        "for value in RN[:,2]:\n",
        "\tidx = [0 for _ in range(9)]\n",
        "\tidx[value] = 1\n",
        "\trn3.append(idx)\n",
        "RN3 = np.array(rn3).reshape(datasize,9,1)\n",
        "\n",
        "RN = np.concatenate((RN1, RN2, RN3), -1)\n",
        "\n",
        "ddf = np.hstack((GN,RN))\n",
        "DSF = np.hstack((cdf,ddf))"
      ],
      "metadata": {
        "id": "F3Nrv1op6Skd"
      },
      "execution_count": null,
      "outputs": []
    },
    {
      "cell_type": "markdown",
      "source": [
        "**Step 4:** Fourier transform real space (one-hot encoded) vectors into the reciprocal space. \n",
        "\n",
        "As demonstrated in study, Fourier transformation is enabled by a summation of feature vectors, using predefined *hkl* planes and the corresponding atomic coordinate."
      ],
      "metadata": {
        "id": "N8JZHKRlAbsl"
      }
    },
    {
      "cell_type": "code",
      "source": [
        "n_atoms = 5\n",
        "\n",
        "# Group Number in Atomic Sites\n",
        "data_gn = []\n",
        "\n",
        "for i in range (0, datasize):\n",
        "  for iter in range (20, 25):\n",
        "    gn=group_no[abx3[(i,iter)]]\n",
        "    data_gn.append(gn)\n",
        "GN_=((np.array(data_gn))-1).reshape(abx3.shape[0], n_atoms)\n",
        "\n",
        "gn1 = []\n",
        "for value in GN_[:,0]:\n",
        "\tidx = [0 for _ in range(18)]\n",
        "\tidx[value] = 1\n",
        "\tgn1.append(idx)\n",
        "GN1_ = np.array(gn1).reshape(datasize,18,1)\n",
        "\n",
        "gn2 = []\n",
        "for value in GN_[:,1]:\n",
        "\tidx = [0 for _ in range(18)]\n",
        "\tidx[value] = 1\n",
        "\tgn2.append(idx)\n",
        "GN2_ = np.array(gn2).reshape(datasize,18,1)\n",
        "\n",
        "gn3 = []\n",
        "for value in GN_[:,2]:\n",
        "\tidx = [0 for _ in range(18)]\n",
        "\tidx[value] = 1\n",
        "\tgn3.append(idx)\n",
        "GN3_ = np.array(gn3).reshape(datasize,18,1)\n",
        "\n",
        "gn4 = []\n",
        "for value in GN_[:,3]:\n",
        "\tidx = [0 for _ in range(18)]\n",
        "\tidx[value] = 1\n",
        "\tgn4.append(idx)\n",
        "GN4_ = np.array(gn4).reshape(datasize,18,1)\n",
        "\n",
        "gn5 = []\n",
        "for value in GN_[:,4]:\n",
        "\tidx = [0 for _ in range(18)]\n",
        "\tidx[value] = 1\n",
        "\tgn5.append(idx)\n",
        "GN5_ = np.array(gn5).reshape(datasize,18,1)\n",
        "\n",
        "GN_ = np.concatenate((GN1_,GN2_,GN3_,GN4_,GN5_), -1)\n",
        "\n",
        "\n",
        "# Row Number in Atomic Sites\n",
        "data_rn = []\n",
        "\n",
        "for i in range (0, datasize):\n",
        "  for iter in range (20, 25):\n",
        "    rn=row_no[abx3[(i,iter)]]\n",
        "    data_rn.append(rn)\n",
        "RN_=((np.array(data_rn))-1).reshape(abx3.shape[0], n_atoms)\n",
        "\n",
        "rn1 = []\n",
        "for value in RN_[:,0]:\n",
        "\tidx = [0 for _ in range(9)]\n",
        "\tidx[value] = 1\n",
        "\trn1.append(idx)\n",
        "RN1_ = np.array(rn1).reshape(datasize,9,1)\n",
        "\n",
        "rn2 = []\n",
        "for value in RN_[:,1]:\n",
        "\tidx = [0 for _ in range(9)]\n",
        "\tidx[value] = 1\n",
        "\trn2.append(idx)\n",
        "RN2_ = np.array(rn2).reshape(datasize,9,1)\n",
        "\n",
        "rn3 = []\n",
        "for value in RN_[:,2]:\n",
        "\tidx = [0 for _ in range(9)]\n",
        "\tidx[value] = 1\n",
        "\trn3.append(idx)\n",
        "RN3_ = np.array(rn3).reshape(datasize,9,1)\n",
        "\n",
        "rn4 = []\n",
        "for value in RN_[:,3]:\n",
        "\tidx = [0 for _ in range(9)]\n",
        "\tidx[value] = 1\n",
        "\trn4.append(idx)\n",
        "RN4_ = np.array(rn4).reshape(datasize,9,1)\n",
        "\n",
        "rn5 = []\n",
        "for value in RN_[:,4]:\n",
        "\tidx = [0 for _ in range(9)]\n",
        "\tidx[value] = 1\n",
        "\trn5.append(idx)\n",
        "RN5_ = np.array(rn5).reshape(datasize,9,1)\n",
        "\n",
        "RN_ = np.concatenate((RN1_,RN2_,RN3_,RN4_,RN5_), -1)"
      ],
      "metadata": {
        "id": "B7pNJUCzAXWe"
      },
      "execution_count": null,
      "outputs": []
    },
    {
      "cell_type": "markdown",
      "source": [
        "Define the crystallographic *hkl* planes (57 hkl planes in total), and project one-hot encoded ionic vectors into the reciprocal space."
      ],
      "metadata": {
        "id": "CEq7a3Y33l8k"
      }
    },
    {
      "cell_type": "code",
      "execution_count": null,
      "metadata": {
        "id": "6vsCHChU1zIs"
      },
      "outputs": [],
      "source": [
        "hkl = [[1,0,0],[0,1,0],[0,0,1],[-1,0,0],[0,-1,0],[0,0,-1],[1,0,1],[1,1,0],[0,1,1],[-1,0,1],[-1,1,0],\n",
        "       [1,0,-1],[1,-1,0],[-1,0,-1],[-1,-1,0],[0,1,-1],[0,-1,1],[0,-1,-1],[1,1,1],[-1,1,1],[1,-1,1],\n",
        "       [1,1,-1],[1,-1,-1],[-1,1,-1],[-1,-1,1],[-1,-1,-1],[2,0,0],[0,2,0],[0,0,2],[-2,0,0],[0,-2,0],\n",
        "       [0,0,-2],[2,1,0],[2,0,1],[1,0,2],[1,2,0],[0,2,1],[0,1,2],[2,-1,0],[2,0,-1],[-1,0,2],[-1,2,0],\n",
        "       [0,2,-1],[0,-1,2],[-2,1,0],[-2,0,1],[1,0,-2],[1,-2,0],[0,-2,1],[0,1,-2],[-2,-1,0],[-2,0,-1],\n",
        "       [-1,0,-2],[-1,-2,0],[0,-2,-1],[0,-1,-2],[0,0,0]]\n",
        "\n",
        "hkl = np.array(hkl)\n",
        "\n",
        "atoms_5 = np.array(abx3[:,25:]) # fractional atomic coordinates\n",
        "\n",
        "# Group Number\n",
        "data=[]\n",
        "for i in range(datasize):\n",
        "  for idx in range(hkl.shape[0]):\n",
        "    gn_vectors = np.pi*(GN_[i,:,0]*(hkl[idx,0]*(atoms_5[i,0]) + hkl[idx,1]*(atoms_5[i,1]) + hkl[idx,2]*(atoms_5[i,2])) +\n",
        "                GN_[i,:,1]*(hkl[idx,0]*(atoms_5[i,3]) + hkl[idx,1]*(atoms_5[i,4]) + hkl[idx,2]*(atoms_5[i,5])) +\n",
        "                GN_[i,:,2]*(hkl[idx,0]*(atoms_5[i,6]) + hkl[idx,1]*(atoms_5[i,7]) + hkl[idx,2]*(atoms_5[i,8])) +\n",
        "                GN_[i,:,3]*(hkl[idx,0]*(atoms_5[i,9]) + hkl[idx,1]*(atoms_5[i,10]) + hkl[idx,2]*(atoms_5[i,11])) + \n",
        "                GN_[i,:,4]*(hkl[idx,0]*(atoms_5[i,12]) + hkl[idx,1]*(atoms_5[i,13]) + hkl[idx,2]*(atoms_5[i,14])))\n",
        "    data.append(gn_vectors)\n",
        "data_gn_ = (np.array(data)).reshape(atoms_5.shape[0],hkl.shape[0]*GN_.shape[1])\n",
        "scaler_gn_rec = MinMaxScaler()\n",
        "data_gn_ = (scaler_gn_rec.fit_transform(data_gn_)).reshape(atoms_5.shape[0],hkl.shape[0],GN_.shape[1])\n",
        "GN_vectors = np.transpose(data_gn_, (0,2,1))\n",
        "\n",
        "# Row Number\n",
        "data=[]\n",
        "for i in range(datasize):\n",
        "  for idx in range(hkl.shape[0]):\n",
        "    rn_vectors = np.pi*(RN_[i,:,0]*(hkl[idx,0]*(atoms_5[i,0]) + hkl[idx,1]*(atoms_5[i,1]) + hkl[idx,2]*(atoms_5[i,2])) +\n",
        "                RN_[i,:,1]*(hkl[idx,0]*(atoms_5[i,3]) + hkl[idx,1]*(atoms_5[i,4]) + hkl[idx,2]*(atoms_5[i,5])) +\n",
        "                RN_[i,:,2]*(hkl[idx,0]*(atoms_5[i,6]) + hkl[idx,1]*(atoms_5[i,7]) + hkl[idx,2]*(atoms_5[i,8])) +\n",
        "                RN_[i,:,3]*(hkl[idx,0]*(atoms_5[i,9]) + hkl[idx,1]*(atoms_5[i,10]) + hkl[idx,2]*(atoms_5[i,11])) + \n",
        "                RN_[i,:,4]*(hkl[idx,0]*(atoms_5[i,12]) + hkl[idx,1]*(atoms_5[i,13]) + hkl[idx,2]*(atoms_5[i,14])))\n",
        "    data.append(rn_vectors)\n",
        "data_rn_ = (np.array(data)).reshape(atoms_5.shape[0],hkl.shape[0]*RN_.shape[1])\n",
        "scaler_rn_rec = MinMaxScaler()\n",
        "data_rn_ = (scaler_rn_rec.fit_transform(data_rn_)).reshape(atoms_5.shape[0],hkl.shape[0],RN_.shape[1])\n",
        "RN_vectors = np.transpose(data_rn_, (0,2,1))\n",
        "\n",
        "prop_rec = np.hstack((GN_vectors, RN_vectors))"
      ]
    },
    {
      "cell_type": "markdown",
      "source": [
        "**Step 5:** Convert direct lattice vectors to reciprocal lattice vectors by applying and satisfying the kronecker delta function. In addition, determine the inter-axial angles of the reciprocal vectors."
      ],
      "metadata": {
        "id": "FPcFn5e0tt5i"
      }
    },
    {
      "cell_type": "code",
      "source": [
        "# Reciprocal Lattice Vectors\n",
        "\n",
        "a_vec_ = np.array(a_vec).astype(\"float32\")\n",
        "b_vec_ = np.array(b_vec).astype(\"float32\")\n",
        "c_vec_ = np.array(c_vec).astype(\"float32\")\n",
        "\n",
        "data_a_rec = []\n",
        "data_b_rec = []\n",
        "data_c_rec = []\n",
        "\n",
        "for i in range(datasize):\n",
        "  \n",
        "  a_rec = (2*np.pi)*(np.cross(b_vec_[i],c_vec_[i]))/(np.dot(a_vec_[i],(np.cross(b_vec_[i],c_vec_[i]))))\n",
        "  b_rec = (2*np.pi)*(np.cross(c_vec_[i],a_vec_[i]))/(np.dot(a_vec_[i],(np.cross(b_vec_[i],c_vec_[i]))))\n",
        "  c_rec = (2*np.pi)*(np.cross(a_vec_[i],b_vec_[i]))/(np.dot(a_vec_[i],(np.cross(b_vec_[i],c_vec_[i]))))\n",
        "  \n",
        "  data_a_rec.append(a_rec)\n",
        "  data_b_rec.append(b_rec)\n",
        "  data_c_rec.append(c_rec)\n",
        "\n",
        "a_rec_LV = np.array(data_a_rec)\n",
        "scaler_a_rec_LV = MinMaxScaler()\n",
        "a_rec_LV_ = (scaler_a_rec_LV.fit_transform(a_rec_LV)).reshape(datasize,1,a_rec_LV.shape[1])\n",
        "\n",
        "b_rec_LV = np.array(data_b_rec)\n",
        "scaler_b_rec_LV = MinMaxScaler()\n",
        "b_rec_LV_ = scaler_b_rec_LV.fit_transform(b_rec_LV).reshape(datasize,1,b_rec_LV.shape[1])\n",
        "\n",
        "c_rec_LV = np.array(data_c_rec)\n",
        "scaler_c_rec_LV = MinMaxScaler()\n",
        "c_rec_LV_ = scaler_c_rec_LV.fit_transform(c_rec_LV).reshape(datasize,1,c_rec_LV.shape[1])\n",
        "\n",
        "rec_lattice = np.hstack((a_rec_LV_,b_rec_LV_,c_rec_LV_))\n",
        "\n",
        "\n",
        "# Reciprocal Inter-Axial Angles\n",
        "\n",
        "data_rec_ANG = []\n",
        "for i in range(datasize):\n",
        "  alpha_rec = math.degrees(np.arccos(np.dot(a_rec_LV[i],b_rec_LV[i])/(np.linalg.norm(a_rec_LV[i])*np.linalg.norm(b_rec_LV[i]))))\n",
        "  beta_rec = math.degrees(np.arccos(np.dot(a_rec_LV[i],c_rec_LV[i])/(np.linalg.norm(a_rec_LV[i])*np.linalg.norm(c_rec_LV[i]))))\n",
        "  gamma_rec = math.degrees(np.arccos(np.dot(b_rec_LV[i],c_rec_LV[i])/(np.linalg.norm(b_rec_LV[i])*np.linalg.norm(c_rec_LV[i]))))\n",
        "  ang_rec = (alpha_rec,beta_rec,gamma_rec)\n",
        "  data_rec_ANG.append(ang_rec)\n",
        "ANG_rec = np.array(data_rec_ANG)\n",
        "\n",
        "scaler_ANG_rec = MinMaxScaler()\n",
        "rec_angle = (scaler_ANG_rec.fit_transform(ANG_rec)).reshape(datasize,1,ANG_rec.shape[1])\n",
        "\n",
        "\n",
        "\n",
        "# Zero-pad rec_lattice & rec_angle to fit the tensor array within the PRF block of the input image\n",
        "\n",
        "zeropad = np.zeros((datasize, rec_lattice.shape[1], hkl.shape[0]-rec_lattice.shape[2]))\n",
        "rec_lattice = np.concatenate((rec_lattice, zeropad), -1)\n",
        "\n",
        "zeropad = np.zeros((datasize, rec_angle.shape[1], hkl.shape[0]-rec_angle.shape[2]))\n",
        "rec_angle = np.concatenate((rec_angle, zeropad), -1)"
      ],
      "metadata": {
        "id": "nnf65V03tuSp"
      },
      "execution_count": null,
      "outputs": []
    },
    {
      "cell_type": "markdown",
      "source": [
        "**Step 6:** Calculate the distance between similar crystallographic planes (*D_hkl*) and the magnitude of the reciprocal vector normal to a specific hkl plane (*NP_rec*), using edge lattice vectors. The edge vectors can be determined by calculating the magnitude of each 3D real lattice vector."
      ],
      "metadata": {
        "id": "iksFZHy7VFAw"
      }
    },
    {
      "cell_type": "code",
      "source": [
        "# First determine the edge vectors by calculating the magnitude of each 3D real lattice vector\n",
        "\n",
        "data_a_edge = []\n",
        "data_b_edge = []\n",
        "data_c_edge = []\n",
        "\n",
        "for i in range(datasize):\n",
        "  a_edge = np.linalg.norm(a_vec_[i,:])\n",
        "  data_a_edge.append(a_edge)\n",
        "  a_ = np.array(data_a_edge)\n",
        "\n",
        "  b_edge = np.linalg.norm(b_vec_[i,:])\n",
        "  data_b_edge.append(b_edge)\n",
        "  b_ = np.array(data_b_edge)\n",
        "\n",
        "  c_edge = np.linalg.norm(c_vec_[i,:])\n",
        "  data_c_edge.append(c_edge) \n",
        "  c_ = np.array(data_c_edge)   \n",
        "\n",
        "# Calculate shortest distance between similar crystallographic planes (n=1)\n",
        "\n",
        "n=1\n",
        "data=[]\n",
        "for i in range(datasize):\n",
        "  for idx in range(hkl.shape[0]-1):\n",
        "    dhkl = n/np.sqrt(((hkl[idx,0]/a_[i,])**2)+((hkl[idx,1]/b_[i,])**2)+((hkl[idx,2]/c_[i,])**2))\n",
        "    data.append(dhkl)\n",
        "\n",
        "D_hkl = np.array(data).reshape(datasize,hkl.shape[0]-1)\n",
        "\n",
        "# Calculate Magnitude of the Reciprocal Vector normal to a specific hkl crystal plane\n",
        "\n",
        "NP_rec = (2*np.pi)/(D_hkl)\n",
        "\n",
        "# Normalize and zeropad for the 57th hkl plane (i.e. [000])\n",
        "scaler_D_hkl = MinMaxScaler()\n",
        "D_hkl = (scaler_D_hkl.fit_transform(D_hkl)).reshape(datasize, 1, D_hkl.shape[1])\n",
        "\n",
        "scaler_NP_rec = MinMaxScaler()\n",
        "NP_rec = (scaler_NP_rec.fit_transform(NP_rec)).reshape(datasize, 1, NP_rec.shape[1])\n",
        "\n",
        "zeropad = np.zeros((datasize, 1, 1))\n",
        "\n",
        "D_hkl = np.concatenate((D_hkl, zeropad), -1)\n",
        "NP_rec = np.concatenate((NP_rec, zeropad), -1)"
      ],
      "metadata": {
        "id": "YJbYwCcCORaG"
      },
      "execution_count": null,
      "outputs": []
    },
    {
      "cell_type": "markdown",
      "source": [
        "**Step 7:** Organize all features in the Periodic Reciprocal Feature (PRF) Block, to form a stacked array of third order tensors. Finally adjoin the DSF with the PRF and the high-dimensional input image is complete."
      ],
      "metadata": {
        "id": "B7xC3ZhG79rT"
      }
    },
    {
      "cell_type": "code",
      "source": [
        "prf = np.hstack((rec_lattice, rec_angle, NP_rec, D_hkl, prop_rec))\n",
        "\n",
        "zeropad = np.zeros((datasize, DSF.shape[1]-prf.shape[1],hkl.shape[0]))\n",
        "PRF = np.hstack((zeropad, prf))\n",
        "\n",
        "input_img = np.concatenate((DSF, PRF), -1)\n",
        "input_img.shape"
      ],
      "metadata": {
        "colab": {
          "base_uri": "https://localhost:8080/"
        },
        "id": "SKEVqFwN785T",
        "outputId": "783784ce-f4f2-4f3f-81d7-ed72d4568d5f"
      },
      "execution_count": null,
      "outputs": [
        {
          "output_type": "execute_result",
          "data": {
            "text/plain": [
              "(21, 36, 60)"
            ]
          },
          "metadata": {},
          "execution_count": 9
        }
      ]
    },
    {
      "cell_type": "markdown",
      "source": [
        "**The pixel plot below shows an exemplified figure of the input image for the first perovskite sample in the data entry (i.e KNO3). Bright intensities on the input-image indicates higher pixel values.**"
      ],
      "metadata": {
        "id": "vpBP0LApF-nV"
      }
    },
    {
      "cell_type": "code",
      "source": [
        "perov = input_img[0,]\n",
        "\n",
        "# Image normalization is done based on byte format within 0-255 in pixel range\n",
        "perov = perov*255\n",
        "perov = perov.astype(np.uint8)\n",
        "\n",
        "from PIL import Image\n",
        "import matplotlib.pyplot as plt\n",
        "\n",
        "img = Image.fromarray(perov)\n",
        "_, ax = plt.subplots()\n",
        "shw = ax.imshow(img, cmap='hot', )\n",
        "\n",
        "bar = plt.colorbar(shw, )"
      ],
      "metadata": {
        "colab": {
          "base_uri": "https://localhost:8080/",
          "height": 254
        },
        "id": "Becss8-nr4xL",
        "outputId": "29ff2a2a-d9c3-4d4e-c2be-38d8dfbbcce0"
      },
      "execution_count": null,
      "outputs": [
        {
          "output_type": "display_data",
          "data": {
            "text/plain": [
              "<Figure size 432x288 with 2 Axes>"
            ],
            "image/png": "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\n"
          },
          "metadata": {
            "needs_background": "light"
          }
        }
      ]
    },
    {
      "cell_type": "markdown",
      "source": [
        "**To save the normalized input-image in *CSV* format**"
      ],
      "metadata": {
        "id": "PXuxaJh9JRK5"
      }
    },
    {
      "cell_type": "code",
      "source": [
        "save = pd.DataFrame(perov)\n",
        "save.to_csv(\"perov.csv\", header=False, index=False)"
      ],
      "metadata": {
        "id": "JnJoG6KuGKuC"
      },
      "execution_count": null,
      "outputs": []
    }
  ]
}
